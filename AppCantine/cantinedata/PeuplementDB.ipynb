{
 "cells": [
  {
   "cell_type": "code",
   "execution_count": null,
   "metadata": {},
   "outputs": [],
   "source": [
    "from django.core.management import setup_environ\n",
    "from AppCantine import settings\n",
    "from models import Fréquentation\n",
    "# from pandas import read_csv\n",
    "\n",
    "import csv\n",
    "\n",
    "dataReader = csv.reader(open('csvtest1.csv'), delimiter=',', quotechar='\"')\n",
    "\n",
    "for row in dataReader:\n",
    "    freq1=Fréquentation()\n",
    "    freq1.identifiant_site=row[0]\n",
    "    freq1.type_site=row[1]\n",
    "    freq1.date=row[2]\n",
    "    freq1.prevision=row[3]\n",
    "    freq1.reel=row[4]\n",
    "    freq1.nom_site=row[5]\n",
    "    freq1.nom_site_syst=row[6]\n",
    "    freq1.nom_site=row[7]\n",
    "    freq1.nom_site=row[8]\n",
    "    freq1.nom_site=row[9]\n",
    "    \n",
    "    # freq1.save()\n",
    "    \n"
   ]
  }
 ],
 "metadata": {
  "language_info": {
   "name": "python"
  },
  "orig_nbformat": 4
 },
 "nbformat": 4,
 "nbformat_minor": 2
}
