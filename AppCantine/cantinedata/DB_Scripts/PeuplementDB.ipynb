{
 "cells": [
  {
   "cell_type": "code",
   "execution_count": 4,
   "metadata": {},
   "outputs": [],
   "source": [
    "import csv\n",
    "import sys,os\n",
    "import datetime"
   ]
  },
  {
   "cell_type": "code",
   "execution_count": 5,
   "metadata": {},
   "outputs": [],
   "source": [
    "csv_filepathname=\"D:/Eric/Simplon/GaspillageCantine/data/SiteNantes/CSV/244400404_nombre-convives-jour-cantine-nantes-2011.csv\"\n",
    "your_djangoproject_home=\"D:/Eric/Simplon/GaspillageCantine/Repos/Simplon_E1_EricBertrand_GaspillageCantine_App/AppCantine\"\n",
    "\n",
    "sys.path.append(your_djangoproject_home)\n",
    "os.environ['DJANGO_SETTINGS_MODULE'] ='AppCantine.settings'\n",
    "os.environ.setdefault('DJANGO_SETTINGS_MODULE', 'rest.settings')\n",
    "os.environ[\"DJANGO_ALLOW_ASYNC_UNSAFE\"] = \"true\"\n",
    "\n",
    "import django\n",
    "\n",
    "django.setup()\n",
    "\n",
    "from cantinedata.models import Fréquentation\n",
    "from django.db import connection\n",
    "from asgiref.sync import sync_to_async\n",
    "from django.utils import timezone\n",
    "\n",
    "timezone.deactivate()"
   ]
  },
  {
   "cell_type": "code",
   "execution_count": 6,
   "metadata": {},
   "outputs": [],
   "source": [
    "checkNoneEmpty = lambda str1 : True if (str1=='' or str1==None) else False\n",
    "checkint = lambda str1 : True if checkNoneEmpty(str1) else str1.isdigit()\n",
    "transformint = lambda str1 : None if (checkNoneEmpty(str1) or not checkint(str1)) else int(str1)\n",
    "checkString = lambda str1 : isinstance(str1,str)\n",
    "str2datetime = lambda string1 :datetime.datetime.strptime(string1,\"%Y-%m-%d\").date()"
   ]
  },
  {
   "cell_type": "code",
   "execution_count": 8,
   "metadata": {},
   "outputs": [
    {
     "data": {
      "text/plain": [
       "['\\ufeffIdentifiant du site',\n",
       " 'Type de site',\n",
       " 'Date',\n",
       " 'Prévision',\n",
       " 'Réel',\n",
       " 'Nom du site',\n",
       " 'Nom du site système',\n",
       " 'Réel système',\n",
       " 'Prévision système']"
      ]
     },
     "execution_count": 8,
     "metadata": {},
     "output_type": "execute_result"
    }
   ],
   "source": [
    "dataReader = csv.reader(open(csv_filepathname, encoding='utf-8'), delimiter=';', quotechar='\"')\n",
    "freqHeader = next(dataReader)\n",
    "compteur = 0\n",
    "freqHeader"
   ]
  },
  {
   "cell_type": "code",
   "execution_count": 9,
   "metadata": {},
   "outputs": [],
   "source": [
    "for row in dataReader:\n",
    "    compteur += 1\n",
    "    freq1=Fréquentation()\n",
    "    freq1.identifiant_site=row[0]\n",
    "    freq1.type_site=row[1]\n",
    "    freq1.date=str2datetime(row[2])\n",
    "    freq1.prevision=transformint(row[3])\n",
    "    freq1.reel=transformint(row[4])\n",
    "    freq1.nom_site=row[5]\n",
    "    freq1.nom_site_syst=row[6]\n",
    "    freq1.reel_syst=transformint(row[7])\n",
    "    freq1.prevision_syst=transformint(row[8])\n",
    "\n",
    "    if checkString(freq1.prevision):\n",
    "        print(compteur)\n",
    "        print(freq1)\n",
    "        break\n",
    "    \n",
    "    sync_to_async(freq1.save())"
   ]
  },
  {
   "cell_type": "code",
   "execution_count": 23,
   "metadata": {},
   "outputs": [
    {
     "data": {
      "text/plain": [
       "3619"
      ]
     },
     "execution_count": 23,
     "metadata": {},
     "output_type": "execute_result"
    }
   ],
   "source": [
    "compteur"
   ]
  },
  {
   "cell_type": "code",
   "execution_count": 24,
   "metadata": {},
   "outputs": [
    {
     "data": {
      "text/plain": [
       "['', 'M/E', '2011-10-20', '266', '260', 'LEON SAY', '', '', '']"
      ]
     },
     "execution_count": 24,
     "metadata": {},
     "output_type": "execute_result"
    }
   ],
   "source": [
    "row"
   ]
  },
  {
   "cell_type": "code",
   "execution_count": 25,
   "metadata": {},
   "outputs": [
    {
     "data": {
      "text/plain": [
       "datetime.datetime(2011, 10, 20, 0, 0)"
      ]
     },
     "execution_count": 25,
     "metadata": {},
     "output_type": "execute_result"
    }
   ],
   "source": [
    "freq1.date"
   ]
  },
  {
   "cell_type": "code",
   "execution_count": 14,
   "metadata": {},
   "outputs": [
    {
     "data": {
      "text/plain": [
       "True"
      ]
     },
     "execution_count": 14,
     "metadata": {},
     "output_type": "execute_result"
    }
   ],
   "source": [
    "str(row[3]).isdigit()"
   ]
  },
  {
   "cell_type": "code",
   "execution_count": 15,
   "metadata": {},
   "outputs": [
    {
     "data": {
      "text/plain": [
       "['404',\n",
       " 'E',\n",
       " '2017-06-23',\n",
       " '221',\n",
       " '235',\n",
       " 'GASTON SERPETTE E',\n",
       " 'GASTON SERPETTE ELEM',\n",
       " '235',\n",
       " '221']"
      ]
     },
     "execution_count": 15,
     "metadata": {},
     "output_type": "execute_result"
    }
   ],
   "source": [
    "row"
   ]
  }
 ],
 "metadata": {
  "kernelspec": {
   "display_name": "Python 3",
   "language": "python",
   "name": "python3"
  },
  "language_info": {
   "codemirror_mode": {
    "name": "ipython",
    "version": 3
   },
   "file_extension": ".py",
   "mimetype": "text/x-python",
   "name": "python",
   "nbconvert_exporter": "python",
   "pygments_lexer": "ipython3",
   "version": "3.10.11"
  },
  "orig_nbformat": 4
 },
 "nbformat": 4,
 "nbformat_minor": 2
}
