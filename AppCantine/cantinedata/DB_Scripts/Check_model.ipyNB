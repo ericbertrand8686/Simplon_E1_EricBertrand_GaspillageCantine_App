{
 "cells": [
  {
   "cell_type": "code",
   "execution_count": 12,
   "metadata": {},
   "outputs": [],
   "source": [
    "import csv\n",
    "import sys,os\n",
    "import datetime\n",
    "import pandas as pd\n",
    "import numpy as np"
   ]
  },
  {
   "cell_type": "code",
   "execution_count": 5,
   "metadata": {},
   "outputs": [
    {
     "ename": "RuntimeError",
     "evalue": "populate() isn't reentrant",
     "output_type": "error",
     "traceback": [
      "\u001b[1;31m---------------------------------------------------------------------------\u001b[0m",
      "\u001b[1;31mRuntimeError\u001b[0m                              Traceback (most recent call last)",
      "Cell \u001b[1;32mIn[5], line 10\u001b[0m\n\u001b[0;32m      6\u001b[0m os\u001b[39m.\u001b[39menviron[\u001b[39m\"\u001b[39m\u001b[39mDJANGO_ALLOW_ASYNC_UNSAFE\u001b[39m\u001b[39m\"\u001b[39m] \u001b[39m=\u001b[39m \u001b[39m\"\u001b[39m\u001b[39mtrue\u001b[39m\u001b[39m\"\u001b[39m\n\u001b[0;32m      8\u001b[0m \u001b[39mimport\u001b[39;00m \u001b[39mdjango\u001b[39;00m\n\u001b[1;32m---> 10\u001b[0m django\u001b[39m.\u001b[39;49msetup()\n\u001b[0;32m     11\u001b[0m \u001b[39mfrom\u001b[39;00m \u001b[39mcantinedata\u001b[39;00m\u001b[39m.\u001b[39;00m\u001b[39mmodels\u001b[39;00m \u001b[39mimport\u001b[39;00m Fréquentation\n",
      "File \u001b[1;32md:\\Eric\\Simplon\\GaspillageCantine\\Repos\\Simplon_E1_EricBertrand_GaspillageCantine_App\\cantine_app\\lib\\site-packages\\django\\__init__.py:24\u001b[0m, in \u001b[0;36msetup\u001b[1;34m(set_prefix)\u001b[0m\n\u001b[0;32m     20\u001b[0m \u001b[39mif\u001b[39;00m set_prefix:\n\u001b[0;32m     21\u001b[0m     set_script_prefix(\n\u001b[0;32m     22\u001b[0m         \u001b[39m\"\u001b[39m\u001b[39m/\u001b[39m\u001b[39m\"\u001b[39m \u001b[39mif\u001b[39;00m settings\u001b[39m.\u001b[39mFORCE_SCRIPT_NAME \u001b[39mis\u001b[39;00m \u001b[39mNone\u001b[39;00m \u001b[39melse\u001b[39;00m settings\u001b[39m.\u001b[39mFORCE_SCRIPT_NAME\n\u001b[0;32m     23\u001b[0m     )\n\u001b[1;32m---> 24\u001b[0m apps\u001b[39m.\u001b[39;49mpopulate(settings\u001b[39m.\u001b[39;49mINSTALLED_APPS)\n",
      "File \u001b[1;32md:\\Eric\\Simplon\\GaspillageCantine\\Repos\\Simplon_E1_EricBertrand_GaspillageCantine_App\\cantine_app\\lib\\site-packages\\django\\apps\\registry.py:83\u001b[0m, in \u001b[0;36mApps.populate\u001b[1;34m(self, installed_apps)\u001b[0m\n\u001b[0;32m     78\u001b[0m \u001b[39m# An RLock prevents other threads from entering this section. The\u001b[39;00m\n\u001b[0;32m     79\u001b[0m \u001b[39m# compare and set operation below is atomic.\u001b[39;00m\n\u001b[0;32m     80\u001b[0m \u001b[39mif\u001b[39;00m \u001b[39mself\u001b[39m\u001b[39m.\u001b[39mloading:\n\u001b[0;32m     81\u001b[0m     \u001b[39m# Prevent reentrant calls to avoid running AppConfig.ready()\u001b[39;00m\n\u001b[0;32m     82\u001b[0m     \u001b[39m# methods twice.\u001b[39;00m\n\u001b[1;32m---> 83\u001b[0m     \u001b[39mraise\u001b[39;00m \u001b[39mRuntimeError\u001b[39;00m(\u001b[39m\"\u001b[39m\u001b[39mpopulate() isn\u001b[39m\u001b[39m'\u001b[39m\u001b[39mt reentrant\u001b[39m\u001b[39m\"\u001b[39m)\n\u001b[0;32m     84\u001b[0m \u001b[39mself\u001b[39m\u001b[39m.\u001b[39mloading \u001b[39m=\u001b[39m \u001b[39mTrue\u001b[39;00m\n\u001b[0;32m     86\u001b[0m \u001b[39m# Phase 1: initialize app configs and import app modules.\u001b[39;00m\n",
      "\u001b[1;31mRuntimeError\u001b[0m: populate() isn't reentrant"
     ]
    }
   ],
   "source": [
    "your_djangoproject_home=\"D:/Eric/Simplon/GaspillageCantine/Repos/Simplon_E1_EricBertrand_GaspillageCantine_App/AppCantine\"\n",
    "\n",
    "sys.path.append(your_djangoproject_home)\n",
    "os.environ['DJANGO_SETTINGS_MODULE'] ='AppCantine.settings'\n",
    "os.environ.setdefault('DJANGO_SETTINGS_MODULE', 'rest.settings')\n",
    "os.environ[\"DJANGO_ALLOW_ASYNC_UNSAFE\"] = \"true\"\n",
    "\n",
    "import django\n",
    "\n",
    "\n",
    "django.setup()\n",
    "from cantinedata.models import Fréquentation"
   ]
  },
  {
   "cell_type": "code",
   "execution_count": 24,
   "metadata": {},
   "outputs": [],
   "source": [
    "from django.db import connection\n",
    "from asgiref.sync import sync_to_async\n",
    "from django.db.models import Sum"
   ]
  },
  {
   "cell_type": "code",
   "execution_count": null,
   "metadata": {},
   "outputs": [],
   "source": []
  },
  {
   "cell_type": "code",
   "execution_count": 1,
   "metadata": {},
   "outputs": [],
   "source": [
    "\n",
    "\n",
    "import pickle\n",
    "\n",
    "import xgboost as xgb"
   ]
  },
  {
   "cell_type": "code",
   "execution_count": 10,
   "metadata": {},
   "outputs": [
    {
     "data": {
      "text/plain": [
       "['artefacts_model_xgb_grcv.pkl', 'xgb_model_grcv.json']"
      ]
     },
     "execution_count": 10,
     "metadata": {},
     "output_type": "execute_result"
    }
   ],
   "source": [
    "os.listdir(\"../predict/\")"
   ]
  },
  {
   "cell_type": "code",
   "execution_count": 14,
   "metadata": {},
   "outputs": [
    {
     "ename": "ModuleNotFoundError",
     "evalue": "No module named 'pandas.core.indexes.numeric'",
     "output_type": "error",
     "traceback": [
      "\u001b[1;31m---------------------------------------------------------------------------\u001b[0m",
      "\u001b[1;31mModuleNotFoundError\u001b[0m                       Traceback (most recent call last)",
      "Cell \u001b[1;32mIn[14], line 8\u001b[0m\n\u001b[0;32m      6\u001b[0m \u001b[39m# these will be accessible via this class\u001b[39;00m\n\u001b[0;32m      7\u001b[0m \u001b[39mwith\u001b[39;00m \u001b[39mopen\u001b[39m(path_artefacts, \u001b[39m'\u001b[39m\u001b[39mrb\u001b[39m\u001b[39m'\u001b[39m) \u001b[39mas\u001b[39;00m f:\n\u001b[1;32m----> 8\u001b[0m    dump_var \u001b[39m=\u001b[39m pickle\u001b[39m.\u001b[39;49mload(f)\n\u001b[0;32m      9\u001b[0m X \u001b[39m=\u001b[39m dump_var[\u001b[39m'\u001b[39m\u001b[39mX\u001b[39m\u001b[39m'\u001b[39m]\n\u001b[0;32m     10\u001b[0m datetable \u001b[39m=\u001b[39m dump_var[\u001b[39m'\u001b[39m\u001b[39mdatetime\u001b[39m\u001b[39m'\u001b[39m]\n",
      "\u001b[1;31mModuleNotFoundError\u001b[0m: No module named 'pandas.core.indexes.numeric'"
     ]
    }
   ],
   "source": [
    "# create path to models\n",
    "path_model = os.path.join('../predict', 'xgb_model_grcv.json')\n",
    "path_artefacts = os.path.join('../predict', 'artefacts_model_xgb_grcv.pkl')\n",
    "predict_model = xgb.XGBRegressor()\n",
    "predict_model.load_model(path_model)\n",
    "# these will be accessible via this class\n",
    "with open(path_artefacts, 'rb') as f:\n",
    "   dump_var = pickle.load(f)\n",
    "X = dump_var['X']\n",
    "datetable = dump_var['datetime']"
   ]
  }
 ],
 "metadata": {
  "kernelspec": {
   "display_name": "cantine_app",
   "language": "python",
   "name": "python3"
  },
  "language_info": {
   "codemirror_mode": {
    "name": "ipython",
    "version": 3
   },
   "file_extension": ".py",
   "mimetype": "text/x-python",
   "name": "python",
   "nbconvert_exporter": "python",
   "pygments_lexer": "ipython3",
   "version": "3.10.11"
  },
  "orig_nbformat": 4
 },
 "nbformat": 4,
 "nbformat_minor": 2
}
